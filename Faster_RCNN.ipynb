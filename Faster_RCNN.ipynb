{
 "cells": [
  {
   "cell_type": "markdown",
   "metadata": {
    "collapsed": true
   },
   "source": [
    "If you are just a student and dont have enough computation power and/or training set  \n",
    "Just use a pre-trained model as we do  \n",
    "Using pre-trained model from there: https://github.com/endernewton/tf-faster-rcnn  \n",
    "Patching for using just CPU: https://github.com/endernewton/tf-faster-rcnn/issues/72  "
   ]
  },
  {
   "cell_type": "code",
   "execution_count": 1,
   "metadata": {},
   "outputs": [
    {
     "name": "stdout",
     "output_type": "stream",
     "text": [
      "/home/jovyan/work/NetsLab\n",
      "/home/jovyan/work/NetsLab/tf-faster-rcnn/lib\n"
     ]
    }
   ],
   "source": [
    "import os \n",
    "import sys\n",
    "\n",
    "this_dir = os.getcwd()\n",
    "print(this_dir)\n",
    "\n",
    "# Add lib to PYTHONPATH\n",
    "lib_path = os.path.join(this_dir, 'tf-faster-rcnn', 'lib')\n",
    "sys.path.insert(0, lib_path)\n",
    "print(lib_path)\n",
    "\n",
    "coco_path = os.path.join(this_dir, 'tf-faster-rcnn', 'data', 'coco', 'PythonAPI')\n",
    "sys.path.insert(0, coco_path)"
   ]
  },
  {
   "cell_type": "code",
   "execution_count": 2,
   "metadata": {
    "scrolled": false
   },
   "outputs": [
    {
     "name": "stdout",
     "output_type": "stream",
     "text": [
      "1.3.0\n"
     ]
    }
   ],
   "source": [
    "from __future__ import absolute_import\n",
    "from __future__ import division\n",
    "from __future__ import print_function\n",
    "\n",
    "from model.config import cfg\n",
    "from model.test import im_detect\n",
    "from model.nms_wrapper import nms\n",
    "\n",
    "from utils.timer import Timer\n",
    "import tensorflow as tf\n",
    "import matplotlib.pyplot as plt\n",
    "print(tf.__version__)\n",
    "import numpy as np\n",
    "import os, cv2\n",
    "import argparse\n",
    "\n",
    "from nets.vgg16 import vgg16\n",
    "from nets.resnet_v1 import resnetv1"
   ]
  },
  {
   "cell_type": "code",
   "execution_count": 3,
   "metadata": {
    "collapsed": true
   },
   "outputs": [],
   "source": [
    "% matplotlib inline"
   ]
  },
  {
   "cell_type": "code",
   "execution_count": 4,
   "metadata": {
    "collapsed": true
   },
   "outputs": [],
   "source": [
    "anchor_scales = [2, 4, 8, 16, 32] \n",
    "CLASSES = ('background',\n",
    "'person', 'bicycle', 'car', 'motorcycle', 'airplane',\n",
    "'bus','train', 'truck', 'boat', 'traffic light', 'fire hydrant',\n",
    "'stop sign', 'parking meter','bench', 'bird', 'cat', 'dog',\n",
    "'horse', 'sheep', 'cow', 'elephant', 'bear', 'zebra', 'giraffe',\n",
    "'backpack','umbrella', 'handbag', 'tie', 'suitcase', 'frisbee',\n",
    "'skis', 'snowboard', 'sports ball', 'kite','baseball bat', 'baseball glove',\n",
    "'skateboard', 'surfboard', 'tennis racket', 'bottle', 'wine glass', 'cup',\n",
    "'fork', 'knife', 'spoon', 'bowl','banana', 'apple', 'sandwich', 'orange',\n",
    "'broccoli','carrot', 'hot dog', 'pizza', 'donut', 'cake', 'chair', 'couch',\n",
    "'potted plant', 'bed', 'dining table','toilet', 'tv', 'laptop', 'mouse', 'remote',\n",
    "'keyboard', 'cell phone', 'microwave', 'oven','toaster', 'sink', 'refrigerator',\n",
    "'book', 'clock', 'vase', 'scissors', 'teddy bear', 'hair drier', 'toothbrush')\n"
   ]
  },
  {
   "cell_type": "code",
   "execution_count": 5,
   "metadata": {
    "collapsed": true
   },
   "outputs": [],
   "source": [
    "def vis_detections(class_name, dets, ax, thresh=0.5):\n",
    "    \"\"\"Draw detected bounding boxes.\"\"\"\n",
    "    inds = np.where(dets[:, -1] >= thresh)[0]\n",
    "    if len(inds) == 0:\n",
    "        return\n",
    "\n",
    "    \n",
    "    for i in inds:\n",
    "        bbox = dets[i, :4]\n",
    "        score = dets[i, -1]\n",
    "\n",
    "        ax.add_patch(\n",
    "            plt.Rectangle((bbox[0], bbox[1]),\n",
    "                          bbox[2] - bbox[0],\n",
    "                          bbox[3] - bbox[1], fill=False,\n",
    "                          edgecolor='red', linewidth=3.5)\n",
    "            )\n",
    "        ax.text(bbox[0], bbox[1] - 2,\n",
    "                '{:s} {:.3f}'.format(class_name, score),\n",
    "                bbox=dict(facecolor='blue', alpha=0.5),\n",
    "                fontsize=14, color='white')\n",
    "\n",
    "\n",
    "    #plt.draw()\n",
    "    #plt.savefig(save_path)\n",
    "    #plt.show()"
   ]
  },
  {
   "cell_type": "code",
   "execution_count": 6,
   "metadata": {
    "collapsed": true
   },
   "outputs": [],
   "source": [
    "def demo(sess, net, image_name):\n",
    "    \"\"\"Detect object classes in an image using pre-computed object proposals.\"\"\"\n",
    "\n",
    "    # Load the demo image\n",
    "    im_file = os.path.join(this_dir, \"data/images\", image_name)\n",
    "    im_save_file = os.path.join(this_dir, \"data/images_out/fasterrcnn_vgg\", image_name)\n",
    "    im = cv2.imread(im_file)\n",
    "\n",
    "    # Detect all object classes and regress object bounds\n",
    "    timer = Timer()\n",
    "    timer.tic()\n",
    "    scores, boxes = im_detect(sess, net, im)\n",
    "    timer.toc()\n",
    "    print('Detection took {:.3f}s for {:d} object proposals'.format(timer.total_time, boxes.shape[0]))\n",
    "\n",
    "    # Visualize detections for each class\n",
    "    CONF_THRESH = 0.8\n",
    "    NMS_THRESH = 0.3\n",
    "    \n",
    "    im = im[:, :, (2, 1, 0)]\n",
    "    fig, ax = plt.subplots(figsize=(12, 12))\n",
    "    ax.imshow(im, aspect='equal')\n",
    "    for cls_ind, cls in enumerate(CLASSES[1:]):\n",
    "        cls_ind += 1 # because we skipped background\n",
    "        cls_boxes = boxes[:, 4*cls_ind:4*(cls_ind + 1)]\n",
    "        cls_scores = scores[:, cls_ind]\n",
    "        dets = np.hstack((cls_boxes,\n",
    "                          cls_scores[:, np.newaxis])).astype(np.float32)\n",
    "        keep = nms(dets, NMS_THRESH)\n",
    "        dets = dets[keep, :]\n",
    "        bbox = dets[:,:4]\n",
    "        score = dets[:,-1]\n",
    "        #print(cls)\n",
    "        #print(bbox[score>CONF_THRESH], score[score>CONF_THRESH])\n",
    "        vis_detections(cls, dets, ax, thresh=CONF_THRESH)\n",
    "    plt.axis('off')\n",
    "    plt.tight_layout()\n",
    "    plt.savefig(im_save_file)\n",
    "    plt.show()"
   ]
  },
  {
   "cell_type": "code",
   "execution_count": null,
   "metadata": {
    "scrolled": false
   },
   "outputs": [
    {
     "name": "stdout",
     "output_type": "stream",
     "text": [
      "INFO:tensorflow:Restoring parameters from /home/jovyan/work/NetsLab/data/Faster-RCNN/vgg16_faster_rcnn_iter_1190000.ckpt\n",
      "Loaded network /home/jovyan/work/NetsLab/data/Faster-RCNN/vgg16_faster_rcnn_iter_1190000.ckpt\n",
      "(103, 81) (103, 324)\n"
     ]
    },
    {
     "name": "stderr",
     "output_type": "stream",
     "text": [
      "\r",
      "  0%|          | 0/99 [00:00<?, ?it/s]"
     ]
    },
    {
     "name": "stdout",
     "output_type": "stream",
     "text": [
      "000000000139.jpg\n"
     ]
    },
    {
     "name": "stderr",
     "output_type": "stream",
     "text": [
      "\r",
      "  1%|          | 1/99 [00:07<12:09,  7.44s/it]"
     ]
    },
    {
     "name": "stdout",
     "output_type": "stream",
     "text": [
      "[419 158 469 295]\n",
      "[383 172 405 212]\n",
      "[165 233 186 265]\n",
      "[293 219 353 315]\n",
      "[366 218 440 313]\n",
      "[231 174 266 213]\n",
      "[  6 166 156 265]\n",
      "000000000285.jpg\n"
     ]
    },
    {
     "name": "stderr",
     "output_type": "stream",
     "text": [
      "\r",
      "  2%|▏         | 2/99 [00:12<10:29,  6.49s/it]"
     ]
    },
    {
     "name": "stdout",
     "output_type": "stream",
     "text": [
      "[  0  53 585 639]\n",
      "000000000632.jpg\n"
     ]
    },
    {
     "name": "stderr",
     "output_type": "stream",
     "text": [
      "\r",
      "  3%|▎         | 3/99 [00:19<10:23,  6.49s/it]"
     ]
    },
    {
     "name": "stdout",
     "output_type": "stream",
     "text": [
      "[ 97 190 114 231]\n",
      "[248 233 345 315]\n",
      "[336 222 430 350]\n",
      "[191 132 241 231]\n",
      "[  1 266 401 482]\n",
      "[285   0 583 383]\n",
      "[487 159 531 177]\n",
      "000000000724.jpg\n"
     ]
    },
    {
     "name": "stderr",
     "output_type": "stream",
     "text": [
      "\r",
      "  4%|▍         | 4/99 [00:25<10:17,  6.50s/it]"
     ]
    },
    {
     "name": "stdout",
     "output_type": "stream",
     "text": [
      "[101 274 145 310]\n",
      "[122  72 261 229]\n",
      "000000000776.jpg\n"
     ]
    },
    {
     "name": "stderr",
     "output_type": "stream",
     "text": [
      "\r",
      "  5%|▌         | 5/99 [00:32<10:04,  6.43s/it]"
     ]
    },
    {
     "name": "stdout",
     "output_type": "stream",
     "text": [
      "[  0 191 341 626]\n",
      "000000000785.jpg\n"
     ]
    },
    {
     "name": "stderr",
     "output_type": "stream",
     "text": [
      "\r",
      "  6%|▌         | 6/99 [00:39<10:09,  6.55s/it]"
     ]
    },
    {
     "name": "stdout",
     "output_type": "stream",
     "text": [
      "[284  52 493 385]\n",
      "[204 356 615 396]\n",
      "000000000802.jpg\n"
     ]
    },
    {
     "name": "stderr",
     "output_type": "stream",
     "text": [
      "\r",
      "  7%|▋         | 7/99 [00:46<10:12,  6.66s/it]"
     ]
    },
    {
     "name": "stdout",
     "output_type": "stream",
     "text": [
      "[ 31 268 166 519]\n",
      "[242 156 407 542]\n",
      "000000000872.jpg\n"
     ]
    },
    {
     "name": "stderr",
     "output_type": "stream",
     "text": [
      "\r",
      "  8%|▊         | 8/99 [00:52<09:51,  6.50s/it]"
     ]
    },
    {
     "name": "stdout",
     "output_type": "stream",
     "text": [
      "[160 126 373 605]\n",
      "[283 111 436 545]\n",
      "000000000885.jpg\n"
     ]
    },
    {
     "name": "stderr",
     "output_type": "stream",
     "text": [
      "\r",
      "  9%|▉         | 9/99 [00:59<09:52,  6.58s/it]"
     ]
    },
    {
     "name": "stdout",
     "output_type": "stream",
     "text": [
      "[282 181 412 397]\n",
      "[296  86 394 227]\n",
      "[596  28 639 254]\n",
      "[431   0 465  13]\n",
      "[499   0 553  15]\n",
      "[400 270 482 311]\n",
      "000000001000.jpg\n"
     ]
    },
    {
     "name": "stderr",
     "output_type": "stream",
     "text": [
      "\r",
      " 10%|█         | 10/99 [01:05<09:45,  6.58s/it]"
     ]
    },
    {
     "name": "stdout",
     "output_type": "stream",
     "text": [
      "[119 150 200 378]\n",
      "[266 100 352 416]\n",
      "[328 154 412 469]\n",
      "[517 187 639 479]\n",
      "[405 212 535 478]\n",
      "[199 159 287 418]\n",
      "[ 41 188 111 395]\n",
      "[431 105 497 234]\n",
      "[195 114 270 256]\n",
      "[ 20 248  68 349]\n",
      "[ 49 296  96 389]\n",
      "000000001268.jpg\n"
     ]
    },
    {
     "name": "stderr",
     "output_type": "stream",
     "text": [
      "\r",
      " 11%|█         | 11/99 [01:12<09:43,  6.63s/it]"
     ]
    },
    {
     "name": "stdout",
     "output_type": "stream",
     "text": [
      "[403 206 469 295]\n",
      "[496  91 638 421]\n",
      "[ 22 213  80 285]\n",
      "[  0 210  26 285]\n",
      "[195 225 265 262]\n",
      "[495 200 594 402]\n",
      "[556 198 601 355]\n",
      "000000001296.jpg\n"
     ]
    },
    {
     "name": "stderr",
     "output_type": "stream",
     "text": [
      "\r",
      " 12%|█▏        | 12/99 [01:19<09:36,  6.63s/it]"
     ]
    },
    {
     "name": "stdout",
     "output_type": "stream",
     "text": [
      "[ 17   3 410 634]\n",
      "[175 404 251 466]\n",
      "[302 147 373 274]\n",
      "000000001353.jpg\n"
     ]
    },
    {
     "name": "stderr",
     "output_type": "stream",
     "text": [
      "\r",
      " 13%|█▎        | 13/99 [01:26<09:29,  6.62s/it]"
     ]
    },
    {
     "name": "stdout",
     "output_type": "stream",
     "text": [
      "[ 63 189 265 469]\n",
      "[217 157 279 220]\n",
      "[145 133 224 197]\n",
      "[188  66 272 171]\n",
      "000000001425.jpg\n"
     ]
    },
    {
     "name": "stderr",
     "output_type": "stream",
     "text": [
      "\r",
      " 14%|█▍        | 14/99 [01:31<09:16,  6.55s/it]"
     ]
    },
    {
     "name": "stdout",
     "output_type": "stream",
     "text": [
      "000000001490.jpg\n"
     ]
    },
    {
     "name": "stderr",
     "output_type": "stream",
     "text": [
      "\r",
      " 15%|█▌        | 15/99 [01:38<09:10,  6.56s/it]"
     ]
    },
    {
     "name": "stdout",
     "output_type": "stream",
     "text": [
      "[449 119 502 241]\n",
      "[358 231 572 246]\n",
      "000000001503.jpg\n"
     ]
    },
    {
     "name": "stderr",
     "output_type": "stream",
     "text": [
      "\r",
      " 16%|█▌        | 16/99 [01:44<09:03,  6.55s/it]"
     ]
    },
    {
     "name": "stdout",
     "output_type": "stream",
     "text": [
      "[298  96 319 151]\n",
      "[129  15 240 105]\n",
      "[  0 101 114 233]\n",
      "[124 179 157 199]\n",
      "[158 151 316 200]\n",
      "000000001532.jpg\n"
     ]
    },
    {
     "name": "stderr",
     "output_type": "stream",
     "text": [
      "\r",
      " 17%|█▋        | 17/99 [01:51<08:56,  6.54s/it]"
     ]
    },
    {
     "name": "stdout",
     "output_type": "stream",
     "text": [
      "[428 397 490 451]\n",
      "[  1 377 112 478]\n",
      "[218 356 425 479]\n",
      "[200 403 231 429]\n",
      "[108 377 186 437]\n",
      "000000001584.jpg\n"
     ]
    },
    {
     "name": "stderr",
     "output_type": "stream",
     "text": [
      "\r",
      " 18%|█▊        | 18/99 [01:56<08:44,  6.47s/it]"
     ]
    },
    {
     "name": "stdout",
     "output_type": "stream",
     "text": [
      "[ 76 375  97 429]\n",
      "[106 387 125 429]\n",
      "[193 306 233 353]\n",
      "[128  79 524 536]\n",
      "[512 315 569 381]\n",
      "000000001675.jpg\n"
     ]
    },
    {
     "name": "stderr",
     "output_type": "stream",
     "text": [
      "\r",
      " 19%|█▉        | 19/99 [02:02<08:35,  6.45s/it]"
     ]
    },
    {
     "name": "stdout",
     "output_type": "stream",
     "text": [
      "[  2   0 325 328]\n",
      "000000001761.jpg\n"
     ]
    },
    {
     "name": "stderr",
     "output_type": "stream",
     "text": [
      "\r",
      " 20%|██        | 20/99 [02:09<08:32,  6.48s/it]"
     ]
    },
    {
     "name": "stdout",
     "output_type": "stream",
     "text": [
      "[152  12 221  85]\n",
      "[279 139 334 183]\n",
      "000000001818.jpg\n"
     ]
    },
    {
     "name": "stderr",
     "output_type": "stream",
     "text": [
      "\r",
      " 21%|██        | 21/99 [02:16<08:25,  6.48s/it]"
     ]
    },
    {
     "name": "stdout",
     "output_type": "stream",
     "text": [
      "[134   5 638 403]\n",
      "[  3  36 330 424]\n",
      "000000001993.jpg\n"
     ]
    },
    {
     "name": "stderr",
     "output_type": "stream",
     "text": [
      "\r",
      " 22%|██▏       | 22/99 [02:23<08:21,  6.51s/it]"
     ]
    },
    {
     "name": "stdout",
     "output_type": "stream",
     "text": [
      "[108 249 219 408]\n",
      "[280 172 595 402]\n",
      "[  0 240 163 400]\n",
      "000000002006.jpg\n"
     ]
    },
    {
     "name": "stderr",
     "output_type": "stream",
     "text": [
      "\r",
      " 23%|██▎       | 23/99 [02:29<08:14,  6.51s/it]"
     ]
    },
    {
     "name": "stdout",
     "output_type": "stream",
     "text": [
      "[  8 252  52 360]\n",
      "[315 188 379 247]\n",
      "[ 9 54 30 79]\n",
      "[ 41  86 601 416]\n",
      "[57  6 68 31]\n",
      "000000002149.jpg\n"
     ]
    },
    {
     "name": "stderr",
     "output_type": "stream",
     "text": [
      "\r",
      " 24%|██▍       | 24/99 [02:36<08:08,  6.51s/it]"
     ]
    },
    {
     "name": "stdout",
     "output_type": "stream",
     "text": [
      "[333  70 586 325]\n",
      "[  4 241 250 407]\n",
      "[ 78  72 345 341]\n",
      "[448 301 633 396]\n",
      "000000002153.jpg\n"
     ]
    },
    {
     "name": "stderr",
     "output_type": "stream",
     "text": [
      "\r",
      " 25%|██▌       | 25/99 [02:42<08:01,  6.50s/it]"
     ]
    },
    {
     "name": "stdout",
     "output_type": "stream",
     "text": [
      "[176   0 240 120]\n",
      "[285 282 466 448]\n",
      "[373 203 439 347]\n",
      "[386 183 459 232]\n",
      "000000002157.jpg\n"
     ]
    },
    {
     "name": "stderr",
     "output_type": "stream",
     "text": [
      "\r",
      " 26%|██▋       | 26/99 [02:49<07:56,  6.53s/it]"
     ]
    },
    {
     "name": "stdout",
     "output_type": "stream",
     "text": [
      "[231  48 298 195]\n",
      "[160  71 236 181]\n",
      "[ 90  92 158 183]\n",
      "[ 50  35 108 195]\n",
      "[124  24 191 172]\n",
      "[  1  84  57 261]\n",
      "[313 312 406 376]\n",
      "[451 262 509 292]\n",
      "[ 11 155 261 359]\n",
      "[  0  41 636 413]\n",
      "000000002261.jpg\n"
     ]
    },
    {
     "name": "stderr",
     "output_type": "stream",
     "text": [
      "\r",
      " 27%|██▋       | 27/99 [02:56<07:51,  6.55s/it]"
     ]
    },
    {
     "name": "stdout",
     "output_type": "stream",
     "text": [
      "[272 154 380 289]\n",
      "000000002299.jpg\n"
     ]
    },
    {
     "name": "stderr",
     "output_type": "stream",
     "text": [
      "\r",
      " 28%|██▊       | 28/99 [03:04<07:48,  6.60s/it]"
     ]
    },
    {
     "name": "stdout",
     "output_type": "stream",
     "text": [
      "[  1 126  49 281]\n",
      "[ 72 191 134 301]\n",
      "[426 127 483 280]\n",
      "[138 191 216 294]\n",
      "[385 196 457 287]\n",
      "[258 197 335 279]\n",
      "[109 125 152 273]\n",
      "[ 62  34 114 128]\n",
      "[327 194 394 287]\n",
      "[ 39 133  80 275]\n",
      "[199 190 278 287]\n",
      "[206  23 260 109]\n",
      "[390  36 442 106]\n",
      "[  1  92  49 163]\n",
      "[348  27 395 124]\n",
      "[178 113 224 225]\n",
      "[ 44  83  95 161]\n",
      "[110  31 161 118]\n",
      "[309  27 362 114]\n",
      "[162  26 211 116]\n",
      "[259  19 315 119]\n",
      "[322 129 363 218]\n",
      "000000002431.jpg\n"
     ]
    },
    {
     "name": "stderr",
     "output_type": "stream",
     "text": [
      "\r",
      " 29%|██▉       | 29/99 [03:10<07:41,  6.59s/it]"
     ]
    },
    {
     "name": "stdout",
     "output_type": "stream",
     "text": [
      "[302   0 427 206]\n",
      "[186 393 403 612]\n",
      "[ 44 380 193 477]\n",
      "[  5  99 456 639]\n",
      "000000002473.jpg\n"
     ]
    },
    {
     "name": "stderr",
     "output_type": "stream",
     "text": [
      "\r",
      " 30%|███       | 30/99 [03:18<07:35,  6.60s/it]"
     ]
    },
    {
     "name": "stdout",
     "output_type": "stream",
     "text": [
      "[236  93 379 242]\n",
      "[440 278 498 382]\n",
      "[118 341 144 387]\n",
      "[ 31 329  59 354]\n",
      "[  3 341  17 353]\n",
      "000000002532.jpg\n"
     ]
    },
    {
     "name": "stderr",
     "output_type": "stream",
     "text": [
      "\r",
      " 31%|███▏      | 31/99 [03:24<07:28,  6.60s/it]"
     ]
    },
    {
     "name": "stdout",
     "output_type": "stream",
     "text": [
      "[182 304 283 466]\n",
      "[218 444 268 483]\n",
      "000000002587.jpg\n"
     ]
    },
    {
     "name": "stderr",
     "output_type": "stream",
     "text": [
      "\r",
      " 32%|███▏      | 32/99 [03:30<07:20,  6.58s/it]"
     ]
    },
    {
     "name": "stdout",
     "output_type": "stream",
     "text": [
      "000000002592.jpg\n"
     ]
    },
    {
     "name": "stderr",
     "output_type": "stream",
     "text": [
      "\r",
      " 33%|███▎      | 33/99 [03:37<07:14,  6.59s/it]"
     ]
    },
    {
     "name": "stdout",
     "output_type": "stream",
     "text": [
      "[220  37 455 240]\n",
      "000000002685.jpg\n"
     ]
    },
    {
     "name": "stderr",
     "output_type": "stream",
     "text": [
      "\r",
      " 34%|███▍      | 34/99 [03:43<07:07,  6.57s/it]"
     ]
    },
    {
     "name": "stdout",
     "output_type": "stream",
     "text": [
      "[350  17 604 440]\n",
      "[183 103 503 546]\n",
      "[ 19 213 139 434]\n",
      "[282  95 362 211]\n",
      "[590 134 639 190]\n",
      "000000002923.jpg\n"
     ]
    },
    {
     "name": "stderr",
     "output_type": "stream",
     "text": [
      "\r",
      " 35%|███▌      | 35/99 [03:49<07:00,  6.57s/it]"
     ]
    },
    {
     "name": "stdout",
     "output_type": "stream",
     "text": [
      "[151 198 157 214]\n",
      "[135 237 146 253]\n",
      "[269 242 282 258]\n",
      "[171 159 184 166]\n",
      "000000003156.jpg\n"
     ]
    },
    {
     "name": "stderr",
     "output_type": "stream",
     "text": [
      "\r",
      " 36%|███▋      | 36/99 [03:56<06:53,  6.57s/it]"
     ]
    },
    {
     "name": "stdout",
     "output_type": "stream",
     "text": [
      "[ 10  18 435 639]\n",
      "[253 356 442 595]\n",
      "000000003255.jpg\n"
     ]
    },
    {
     "name": "stderr",
     "output_type": "stream",
     "text": [
      "\r",
      " 37%|███▋      | 37/99 [04:03<06:48,  6.59s/it]"
     ]
    },
    {
     "name": "stdout",
     "output_type": "stream",
     "text": [
      "[294 313 315 351]\n",
      "[273 315 291 355]\n",
      "[258 311 275 355]\n",
      "[236 316 251 357]\n",
      "000000003501.jpg\n"
     ]
    },
    {
     "name": "stderr",
     "output_type": "stream",
     "text": [
      "\r",
      " 38%|███▊      | 38/99 [04:08<06:39,  6.55s/it]"
     ]
    },
    {
     "name": "stdout",
     "output_type": "stream",
     "text": [
      "[ 75 164 255 364]\n",
      "[122  72 249 219]\n",
      "000000003553.jpg\n"
     ]
    },
    {
     "name": "stderr",
     "output_type": "stream",
     "text": [
      "\r",
      " 39%|███▉      | 39/99 [04:15<06:33,  6.56s/it]"
     ]
    },
    {
     "name": "stdout",
     "output_type": "stream",
     "text": [
      "[127   4 416 331]\n",
      "[160 215 404 349]\n",
      "000000003661.jpg\n"
     ]
    },
    {
     "name": "stderr",
     "output_type": "stream",
     "text": [
      "\r",
      " 40%|████      | 40/99 [04:22<06:27,  6.57s/it]"
     ]
    },
    {
     "name": "stdout",
     "output_type": "stream",
     "text": [
      "[562  22 637 253]\n",
      "[ 40   0 586 240]\n",
      "[ 88 180 479 350]\n",
      "000000003845.jpg\n"
     ]
    },
    {
     "name": "stderr",
     "output_type": "stream",
     "text": [
      "\r",
      " 41%|████▏     | 41/99 [04:28<06:20,  6.56s/it]"
     ]
    },
    {
     "name": "stdout",
     "output_type": "stream",
     "text": [
      "[112   0 186  57]\n",
      "[123 207 187 267]\n",
      "[184 184 269 260]\n",
      "[167  81 207 139]\n",
      "[259 191 298 265]\n",
      "[192 253 262 323]\n",
      "[449   0 499  77]\n",
      "[  4   6 489 350]\n",
      "000000003934.jpg\n"
     ]
    },
    {
     "name": "stderr",
     "output_type": "stream",
     "text": [
      "\r",
      " 42%|████▏     | 42/99 [04:35<06:13,  6.56s/it]"
     ]
    },
    {
     "name": "stdout",
     "output_type": "stream",
     "text": [
      "[196 109 237 218]\n",
      "[ 61 128 199 458]\n",
      "[158  83 210 230]\n",
      "[295 132 326 181]\n",
      "[ 38  79 106 339]\n",
      "[ 92  88 159 178]\n",
      "[218 278 237 306]\n",
      "[141 196 374 379]\n",
      "[189 208 215 228]\n",
      "000000004134.jpg\n"
     ]
    },
    {
     "name": "stderr",
     "output_type": "stream",
     "text": [
      "\r",
      " 43%|████▎     | 43/99 [04:42<06:08,  6.57s/it]"
     ]
    },
    {
     "name": "stdout",
     "output_type": "stream",
     "text": [
      "[ 47  40 292 423]\n",
      "[219  52 593 422]\n",
      "[ 13 110  74 260]\n",
      "[298 121 338 275]\n",
      "[237 127 279 205]\n",
      "[576 108 636 419]\n",
      "[471 112 529 183]\n",
      "[549 142 578 194]\n",
      "[517 140 538 184]\n",
      "[ 66 127  99 209]\n",
      "[348 137 378 194]\n",
      "[393 191 438 366]\n",
      "[207 249 311 338]\n",
      "000000004395.jpg\n"
     ]
    },
    {
     "name": "stderr",
     "output_type": "stream",
     "text": [
      "\r",
      " 44%|████▍     | 44/99 [04:49<06:01,  6.57s/it]"
     ]
    },
    {
     "name": "stdout",
     "output_type": "stream",
     "text": [
      "[  9   0 405 639]\n",
      "[326 389 424 629]\n",
      "[172 275 266 632]\n",
      "000000004495.jpg\n"
     ]
    },
    {
     "name": "stderr",
     "output_type": "stream",
     "text": [
      "\r",
      " 45%|████▌     | 45/99 [04:55<05:54,  6.57s/it]"
     ]
    },
    {
     "name": "stdout",
     "output_type": "stream",
     "text": [
      "[  8 163 155 324]\n",
      "[199 198 499 374]\n",
      "[193 112 259 176]\n",
      "000000004765.jpg\n"
     ]
    },
    {
     "name": "stderr",
     "output_type": "stream",
     "text": [
      "\r",
      " 46%|████▋     | 46/99 [05:00<05:46,  6.54s/it]"
     ]
    },
    {
     "name": "stdout",
     "output_type": "stream",
     "text": [
      "[215 122 399 380]\n",
      "[273 347 534 419]\n",
      "000000004795.jpg\n"
     ]
    },
    {
     "name": "stderr",
     "output_type": "stream",
     "text": [
      "\r",
      " 47%|████▋     | 47/99 [05:06<05:39,  6.52s/it]"
     ]
    },
    {
     "name": "stdout",
     "output_type": "stream",
     "text": [
      "[176 135 563 477]\n",
      "[  4 129 204 472]\n",
      "[189   0 639 470]\n",
      "[530 239 639 445]\n",
      "000000005001.jpg\n"
     ]
    },
    {
     "name": "stderr",
     "output_type": "stream",
     "text": [
      "\r",
      " 48%|████▊     | 48/99 [05:13<05:32,  6.52s/it]"
     ]
    },
    {
     "name": "stdout",
     "output_type": "stream",
     "text": [
      "[349  92 526 433]\n",
      "[ 82 230 201 478]\n",
      "[441  46 507 164]\n",
      "[ 46  72 205 357]\n",
      "[342  51 406 150]\n",
      "[535  72 634 382]\n",
      "[  8  36  70 184]\n",
      "[294  53 353 144]\n",
      "[217  76 344 360]\n",
      "[169  35 272 279]\n",
      "[235 264 347 476]\n",
      "[527  55 567 118]\n",
      "[570 152 592 182]\n",
      "000000005037.jpg\n"
     ]
    },
    {
     "name": "stderr",
     "output_type": "stream",
     "text": [
      "\r",
      " 49%|████▉     | 49/99 [05:20<05:26,  6.53s/it]"
     ]
    },
    {
     "name": "stdout",
     "output_type": "stream",
     "text": [
      "[623 215 639 360]\n",
      "[ 24 222  40 246]\n",
      "[  9 218  25 245]\n",
      "[573 249 601 268]\n",
      "[105  26 577 374]\n",
      "000000005060.jpg\n"
     ]
    },
    {
     "name": "stderr",
     "output_type": "stream",
     "text": [
      "\r",
      " 51%|█████     | 50/99 [05:26<05:20,  6.53s/it]"
     ]
    },
    {
     "name": "stdout",
     "output_type": "stream",
     "text": [
      "[165 306 313 499]\n",
      "000000005193.jpg\n"
     ]
    },
    {
     "name": "stderr",
     "output_type": "stream",
     "text": [
      "\r",
      " 52%|█████▏    | 51/99 [05:33<05:14,  6.55s/it]"
     ]
    },
    {
     "name": "stdout",
     "output_type": "stream",
     "text": [
      "[293 173 404 394]\n",
      "[ 76 124 242 423]\n",
      "[366 212 481 368]\n",
      "[222  64 264 187]\n",
      "[368  96 487 269]\n",
      "[468  52 570 336]\n",
      "[368  94 390 168]\n",
      "[ 69 172 114 201]\n",
      "[366 282 392 312]\n",
      "000000005477.jpg\n"
     ]
    },
    {
     "name": "stderr",
     "output_type": "stream",
     "text": [
      "\r",
      " 53%|█████▎    | 52/99 [05:41<05:08,  6.56s/it]"
     ]
    },
    {
     "name": "stdout",
     "output_type": "stream",
     "text": [
      "[  9  98 639 291]\n",
      "[ 43 250 150 274]\n",
      "000000005503.jpg\n"
     ]
    },
    {
     "name": "stderr",
     "output_type": "stream",
     "text": [
      "\r",
      " 54%|█████▎    | 53/99 [05:47<05:01,  6.55s/it]"
     ]
    },
    {
     "name": "stdout",
     "output_type": "stream",
     "text": [
      "[ 48 149 262 483]\n",
      "000000005529.jpg\n"
     ]
    },
    {
     "name": "stderr",
     "output_type": "stream",
     "text": [
      "\r",
      " 55%|█████▍    | 54/99 [05:54<04:55,  6.56s/it]"
     ]
    },
    {
     "name": "stdout",
     "output_type": "stream",
     "text": [
      "[ 99 124 250 431]\n",
      "000000005586.jpg\n"
     ]
    },
    {
     "name": "stderr",
     "output_type": "stream",
     "text": [
      "\r",
      " 56%|█████▌    | 55/99 [06:00<04:48,  6.56s/it]"
     ]
    },
    {
     "name": "stdout",
     "output_type": "stream",
     "text": [
      "[144  67 176 157]\n",
      "[291  62 304 101]\n",
      "[118 169 201 235]\n",
      "[273  73 294 110]\n",
      "[132  92 151 104]\n",
      "000000005600.jpg\n"
     ]
    },
    {
     "name": "stderr",
     "output_type": "stream",
     "text": [
      "\r",
      " 57%|█████▋    | 56/99 [06:07<04:42,  6.57s/it]"
     ]
    },
    {
     "name": "stdout",
     "output_type": "stream",
     "text": [
      "[189 141 550 360]\n",
      "[101   2 381 227]\n",
      "[ 49   0 626 360]\n",
      "000000005992.jpg\n"
     ]
    },
    {
     "name": "stderr",
     "output_type": "stream",
     "text": [
      "\r",
      " 58%|█████▊    | 57/99 [06:14<04:36,  6.57s/it]"
     ]
    },
    {
     "name": "stdout",
     "output_type": "stream",
     "text": [
      "[  0 213  30 265]\n",
      "[ 22 134 235 375]\n",
      "[204 145 558 424]\n",
      "[557 184 639 416]\n",
      "000000006012.jpg\n"
     ]
    },
    {
     "name": "stderr",
     "output_type": "stream",
     "text": [
      "\r",
      " 59%|█████▊    | 58/99 [06:20<04:28,  6.56s/it]"
     ]
    },
    {
     "name": "stdout",
     "output_type": "stream",
     "text": [
      "[358 141 553 502]\n",
      "[ 89 131 281 496]\n",
      "[332  17 463 346]\n",
      "[198 241 454 470]\n",
      "000000006040.jpg\n"
     ]
    },
    {
     "name": "stderr",
     "output_type": "stream",
     "text": [
      "\r",
      " 60%|█████▉    | 59/99 [06:27<04:22,  6.57s/it]"
     ]
    },
    {
     "name": "stdout",
     "output_type": "stream",
     "text": [
      "[263 197 282 224]\n",
      "[448 180 481 220]\n",
      "[331 197 353 229]\n",
      "[299 200 316 226]\n",
      "[375 198 402 228]\n",
      "[ 36  86 626 319]\n",
      "[  2 174  50 215]\n",
      "000000006213.jpg\n"
     ]
    },
    {
     "name": "stderr",
     "output_type": "stream",
     "text": [
      "\r",
      " 61%|██████    | 60/99 [06:34<04:16,  6.58s/it]"
     ]
    },
    {
     "name": "stdout",
     "output_type": "stream",
     "text": [
      "[586 289 639 314]\n",
      "[408 269 505 289]\n",
      "000000006460.jpg\n"
     ]
    },
    {
     "name": "stderr",
     "output_type": "stream",
     "text": [
      "\r",
      " 62%|██████▏   | 61/99 [06:41<04:10,  6.59s/it]"
     ]
    },
    {
     "name": "stdout",
     "output_type": "stream",
     "text": [
      "[276 138 332 211]\n",
      "000000006471.jpg\n"
     ]
    },
    {
     "name": "stderr",
     "output_type": "stream",
     "text": [
      "\r",
      " 63%|██████▎   | 62/99 [06:49<04:04,  6.60s/it]"
     ]
    },
    {
     "name": "stdout",
     "output_type": "stream",
     "text": [
      "[262  63 355 300]\n",
      "[ 17 142 128 323]\n",
      "[ 88 189 235 326]\n",
      "[ 85  71 140 140]\n",
      "[397  60 453 113]\n",
      "[212  73 271 130]\n",
      "[167  74 219 133]\n",
      "[ 24  95  73 148]\n",
      "[ 50  81  78 133]\n",
      "[  1  92  20 149]\n",
      "[38  0 69 13]\n",
      "[295  26 362 108]\n",
      "[214 230 242 263]\n",
      "000000006614.jpg\n"
     ]
    },
    {
     "name": "stderr",
     "output_type": "stream",
     "text": [
      "\r",
      " 64%|██████▎   | 63/99 [06:55<03:57,  6.59s/it]"
     ]
    },
    {
     "name": "stdout",
     "output_type": "stream",
     "text": [
      "000000006723.jpg\n"
     ]
    },
    {
     "name": "stderr",
     "output_type": "stream",
     "text": [
      "\r",
      " 65%|██████▍   | 64/99 [07:02<03:51,  6.60s/it]"
     ]
    },
    {
     "name": "stdout",
     "output_type": "stream",
     "text": [
      "[102 197 111 221]\n",
      "[171 203 197 223]\n",
      "[202 201 242 229]\n",
      "[283 199 302 212]\n",
      "[363 191 395 223]\n",
      "000000006763.jpg\n"
     ]
    },
    {
     "name": "stderr",
     "output_type": "stream",
     "text": [
      "\r",
      " 66%|██████▌   | 65/99 [07:09<03:44,  6.60s/it]"
     ]
    },
    {
     "name": "stdout",
     "output_type": "stream",
     "text": [
      "[  5  79 300 493]\n",
      "[174 120 353 448]\n",
      "[  1 213  45 336]\n",
      "[146 233 178 393]\n",
      "000000006771.jpg\n"
     ]
    },
    {
     "name": "stderr",
     "output_type": "stream",
     "text": [
      "\r",
      " 67%|██████▋   | 66/99 [07:16<03:38,  6.61s/it]"
     ]
    },
    {
     "name": "stdout",
     "output_type": "stream",
     "text": [
      "[138 123 441 425]\n",
      "[545 148 638 426]\n",
      "[373 154 579 415]\n",
      "[ 63 139 240 417]\n",
      "[390 134 478 234]\n",
      "[  0   9  87 386]\n",
      "[565 131 633 225]\n",
      "000000006818.jpg\n"
     ]
    },
    {
     "name": "stderr",
     "output_type": "stream",
     "text": [
      "\r",
      " 68%|██████▊   | 67/99 [07:23<03:31,  6.61s/it]"
     ]
    },
    {
     "name": "stdout",
     "output_type": "stream",
     "text": [
      "[353 463 424 583]\n",
      "000000006894.jpg\n"
     ]
    },
    {
     "name": "stderr",
     "output_type": "stream",
     "text": [
      "\r",
      " 69%|██████▊   | 68/99 [07:29<03:24,  6.60s/it]"
     ]
    },
    {
     "name": "stdout",
     "output_type": "stream",
     "text": [
      "[176  12 639 478]\n",
      "[ 80  41 617 479]\n",
      "[ 32  90 250 474]\n",
      "000000006954.jpg\n"
     ]
    },
    {
     "name": "stderr",
     "output_type": "stream",
     "text": [
      "\r",
      " 70%|██████▉   | 69/99 [07:35<03:18,  6.60s/it]"
     ]
    },
    {
     "name": "stdout",
     "output_type": "stream",
     "text": [
      "[  0 105 160 458]\n",
      "[364 152 445 322]\n",
      "[413 116 623 374]\n",
      "[140 135 265 317]\n",
      "[197 131 359 359]\n",
      "[254 235 353 336]\n",
      "[458 234 603 361]\n",
      "000000007088.jpg\n"
     ]
    },
    {
     "name": "stderr",
     "output_type": "stream",
     "text": [
      "\r",
      " 71%|███████   | 70/99 [07:42<03:11,  6.60s/it]"
     ]
    },
    {
     "name": "stdout",
     "output_type": "stream",
     "text": [
      "[180 205 274 465]\n",
      "[ 89 174 305 268]\n",
      "[186 284 219 354]\n",
      "000000007108.jpg\n"
     ]
    },
    {
     "name": "stderr",
     "output_type": "stream",
     "text": [
      "\r",
      " 72%|███████▏  | 71/99 [07:48<03:04,  6.60s/it]"
     ]
    },
    {
     "name": "stdout",
     "output_type": "stream",
     "text": [
      "[102  14 507 423]\n",
      "[355  56 623 419]\n",
      "000000007278.jpg\n"
     ]
    },
    {
     "name": "stderr",
     "output_type": "stream",
     "text": [
      "\r",
      " 73%|███████▎  | 72/99 [07:55<02:58,  6.60s/it]"
     ]
    },
    {
     "name": "stdout",
     "output_type": "stream",
     "text": [
      "[194  69 324 156]\n",
      "000000007281.jpg\n"
     ]
    },
    {
     "name": "stderr",
     "output_type": "stream",
     "text": [
      "\r",
      " 74%|███████▎  | 73/99 [08:02<02:51,  6.61s/it]"
     ]
    },
    {
     "name": "stdout",
     "output_type": "stream",
     "text": [
      "[  1 227  31 269]\n",
      "[552 192 566 223]\n",
      "[391 133 472 285]\n",
      "[458 120 537 271]\n",
      "[254 199 263 207]\n",
      "[593 202 608 214]\n",
      "[571 201 583 213]\n",
      "[470 182 543 360]\n",
      "[345 184 447 360]\n",
      "000000007386.jpg\n"
     ]
    },
    {
     "name": "stderr",
     "output_type": "stream",
     "text": [
      "\r",
      " 75%|███████▍  | 74/99 [08:09<02:45,  6.62s/it]"
     ]
    },
    {
     "name": "stdout",
     "output_type": "stream",
     "text": [
      "[137  23 570 380]\n",
      "[441 159 562 236]\n",
      "[181 279 223 325]\n",
      "000000007511.jpg\n"
     ]
    },
    {
     "name": "stderr",
     "output_type": "stream",
     "text": [
      "\r",
      " 76%|███████▌  | 75/99 [08:16<02:38,  6.62s/it]"
     ]
    },
    {
     "name": "stdout",
     "output_type": "stream",
     "text": [
      "[375 242 507 476]\n",
      "[269 274 282 303]\n",
      "[237 280 249 306]\n",
      "[155 251 591 310]\n",
      "[205 126 223 160]\n",
      "000000007574.jpg\n"
     ]
    },
    {
     "name": "stderr",
     "output_type": "stream",
     "text": [
      "\r",
      " 77%|███████▋  | 76/99 [08:22<02:32,  6.62s/it]"
     ]
    },
    {
     "name": "stdout",
     "output_type": "stream",
     "text": [
      "[293 289 343 388]\n",
      "[504 304 534 387]\n",
      "[483 299 508 376]\n",
      "[106  69 148  88]\n",
      "[439 342 476 366]\n",
      "[342 242 422 357]\n",
      "[183 356 302 410]\n",
      "[ 39 367 173 433]\n",
      "[ 26 358 363 458]\n",
      "[  0 154 107 387]\n",
      "[328 116 348 139]\n",
      "[206  55 230  92]\n",
      "000000007784.jpg\n"
     ]
    },
    {
     "name": "stderr",
     "output_type": "stream",
     "text": [
      "\r",
      " 78%|███████▊  | 77/99 [08:28<02:25,  6.61s/it]"
     ]
    },
    {
     "name": "stdout",
     "output_type": "stream",
     "text": [
      "[ 82  83 342 297]\n",
      "[231 139 327 307]\n",
      "000000007795.jpg\n"
     ]
    },
    {
     "name": "stderr",
     "output_type": "stream",
     "text": [
      "\r",
      " 79%|███████▉  | 78/99 [08:35<02:18,  6.61s/it]"
     ]
    },
    {
     "name": "stdout",
     "output_type": "stream",
     "text": [
      "[  0 215 447 416]\n",
      "[118 195 459 302]\n",
      "[512  91 622 304]\n",
      "000000007816.jpg\n"
     ]
    },
    {
     "name": "stderr",
     "output_type": "stream",
     "text": [
      "\r",
      " 80%|███████▉  | 79/99 [08:43<02:12,  6.62s/it]"
     ]
    },
    {
     "name": "stdout",
     "output_type": "stream",
     "text": [
      "[247  35 293 142]\n",
      "[501  54 544 166]\n",
      "[567  48 616 170]\n",
      "[256  72 439 306]\n",
      "[416 120 475 174]\n",
      "[363 107 387 165]\n",
      "[491  57 517 159]\n",
      "[566  54 589 118]\n",
      "[241 148 471 354]\n",
      "000000007818.jpg\n"
     ]
    },
    {
     "name": "stderr",
     "output_type": "stream",
     "text": [
      "\r",
      " 81%|████████  | 80/99 [08:50<02:05,  6.63s/it]"
     ]
    },
    {
     "name": "stdout",
     "output_type": "stream",
     "text": [
      "[ 13 261 118 310]\n",
      "[258  62 384 307]\n",
      "[  9 257 613 420]\n",
      "[288 216 360 315]\n",
      "000000007977.jpg\n"
     ]
    },
    {
     "name": "stderr",
     "output_type": "stream",
     "text": [
      "\r",
      " 82%|████████▏ | 81/99 [08:57<01:59,  6.63s/it]"
     ]
    },
    {
     "name": "stdout",
     "output_type": "stream",
     "text": [
      "[108 150 266 413]\n",
      "[199 346 269 425]\n",
      "[194 404 238 425]\n",
      "000000007991.jpg\n"
     ]
    },
    {
     "name": "stderr",
     "output_type": "stream",
     "text": [
      "\r",
      " 83%|████████▎ | 82/99 [09:04<01:52,  6.64s/it]"
     ]
    },
    {
     "name": "stdout",
     "output_type": "stream",
     "text": [
      "000000008021.jpg\n"
     ]
    },
    {
     "name": "stderr",
     "output_type": "stream",
     "text": [
      "\r",
      " 84%|████████▍ | 83/99 [09:10<01:46,  6.64s/it]"
     ]
    },
    {
     "name": "stdout",
     "output_type": "stream",
     "text": [
      "[243  98 439 376]\n",
      "[  0 255 312 476]\n",
      "[426 285 639 479]\n",
      "[314 197 341 309]\n",
      "000000008211.jpg\n"
     ]
    },
    {
     "name": "stderr",
     "output_type": "stream",
     "text": [
      "\r",
      " 85%|████████▍ | 84/99 [09:17<01:39,  6.64s/it]"
     ]
    },
    {
     "name": "stdout",
     "output_type": "stream",
     "text": [
      "[325 205 408 354]\n",
      "[415 183 479 348]\n",
      "[135 172 257 310]\n",
      "[ 20 179 184 308]\n",
      "[478 318 541 352]\n",
      "[557 149 603 217]\n",
      "000000008277.jpg\n"
     ]
    },
    {
     "name": "stderr",
     "output_type": "stream",
     "text": [
      "\r",
      " 86%|████████▌ | 85/99 [09:22<01:32,  6.62s/it]"
     ]
    },
    {
     "name": "stdout",
     "output_type": "stream",
     "text": [
      "[ 31  38 483 389]\n",
      "000000008532.jpg\n"
     ]
    },
    {
     "name": "stderr",
     "output_type": "stream",
     "text": [
      "\r",
      " 87%|████████▋ | 86/99 [09:29<01:26,  6.62s/it]"
     ]
    },
    {
     "name": "stdout",
     "output_type": "stream",
     "text": [
      "[153  16 639 421]\n",
      "[418 366 494 424]\n",
      "000000008629.jpg\n"
     ]
    },
    {
     "name": "stderr",
     "output_type": "stream",
     "text": [
      "\r",
      " 88%|████████▊ | 87/99 [09:34<01:19,  6.60s/it]"
     ]
    },
    {
     "name": "stdout",
     "output_type": "stream",
     "text": [
      "[236 429 414 613]\n",
      "[ 12  31 399 393]\n",
      "[434  22 619 191]\n",
      "[434 234 619 402]\n",
      "[ 39 438 204 598]\n",
      "000000008690.jpg\n"
     ]
    },
    {
     "name": "stderr",
     "output_type": "stream",
     "text": [
      "\r",
      " 89%|████████▉ | 88/99 [09:40<01:12,  6.60s/it]"
     ]
    },
    {
     "name": "stdout",
     "output_type": "stream",
     "text": [
      "[ 95  18 378 446]\n",
      "[328  78 512 327]\n",
      "[ 92  13 181 361]\n",
      "[342 301 639 476]\n",
      "[ 51 255 521 478]\n",
      "000000008762.jpg\n"
     ]
    },
    {
     "name": "stderr",
     "output_type": "stream",
     "text": [
      "\r",
      " 90%|████████▉ | 89/99 [09:47<01:06,  6.61s/it]"
     ]
    },
    {
     "name": "stdout",
     "output_type": "stream",
     "text": [
      "[  1 278  27 304]\n",
      "[ 57  85  78 148]\n",
      "[162 102 187 147]\n",
      "[502 229 518 243]\n",
      "[493 181 516 228]\n",
      "[ 87 102 106 129]\n",
      "000000008844.jpg\n"
     ]
    },
    {
     "name": "stderr",
     "output_type": "stream",
     "text": [
      "\r",
      " 91%|█████████ | 90/99 [09:54<00:59,  6.61s/it]"
     ]
    },
    {
     "name": "stdout",
     "output_type": "stream",
     "text": [
      "[352  54 588 306]\n",
      "[339 186 372 244]\n",
      "[333 241 632 398]\n",
      "000000008899.jpg\n"
     ]
    },
    {
     "name": "stderr",
     "output_type": "stream",
     "text": [
      "\r",
      " 92%|█████████▏| 91/99 [10:00<00:52,  6.60s/it]"
     ]
    },
    {
     "name": "stdout",
     "output_type": "stream",
     "text": [
      "[ 10 351  70 452]\n",
      "[138 402 187 494]\n",
      "000000009378.jpg\n"
     ]
    },
    {
     "name": "stderr",
     "output_type": "stream",
     "text": [
      "\r",
      " 93%|█████████▎| 92/99 [10:07<00:46,  6.61s/it]"
     ]
    },
    {
     "name": "stdout",
     "output_type": "stream",
     "text": [
      "[ 59  44 469 396]\n",
      "[423 336 479 391]\n",
      "[520 288 591 393]\n",
      "[477 320 527 386]\n",
      "[400 340 434 390]\n",
      "[183 213 362 255]\n",
      "[325 328 365 385]\n",
      "000000009400.jpg\n"
     ]
    },
    {
     "name": "stderr",
     "output_type": "stream",
     "text": [
      "\r",
      " 94%|█████████▍| 93/99 [10:14<00:39,  6.60s/it]"
     ]
    },
    {
     "name": "stdout",
     "output_type": "stream",
     "text": [
      "[144  93 288 269]\n",
      "[314  83 453 280]\n",
      "[  3  93 105 183]\n",
      "[469 101 638 420]\n",
      "[272  59 365 229]\n",
      "[563  46 628 123]\n",
      "[462  67 529 214]\n",
      "[190 266 214 317]\n",
      "[250 410 320 475]\n",
      "[ 83 210 209 297]\n",
      "[  3 173 105 252]\n",
      "[ 62 307 266 479]\n",
      "[267 220 447 444]\n",
      "[461 355 523 383]\n",
      "[319 361 468 473]\n",
      "000000009448.jpg\n"
     ]
    },
    {
     "name": "stderr",
     "output_type": "stream",
     "text": [
      "\r",
      " 95%|█████████▍| 94/99 [10:20<00:32,  6.60s/it]"
     ]
    },
    {
     "name": "stdout",
     "output_type": "stream",
     "text": [
      "[133 107 381 634]\n",
      "[  4   0 550 402]\n",
      "000000009483.jpg\n"
     ]
    },
    {
     "name": "stderr",
     "output_type": "stream",
     "text": [
      "\r",
      " 96%|█████████▌| 95/99 [10:26<00:26,  6.60s/it]"
     ]
    },
    {
     "name": "stdout",
     "output_type": "stream",
     "text": [
      "[ 35  76 177 479]\n",
      "[303  73 383 248]\n",
      "[451 208 580 350]\n",
      "[166 258 304 336]\n",
      "[376 362 408 378]\n",
      "[310 318 425 360]\n",
      "000000009590.jpg\n"
     ]
    },
    {
     "name": "stderr",
     "output_type": "stream",
     "text": [
      "\r",
      " 97%|█████████▋| 96/99 [10:33<00:19,  6.60s/it]"
     ]
    },
    {
     "name": "stdout",
     "output_type": "stream",
     "text": [
      "[373 169 457 264]\n",
      "[  3  55 263 419]\n",
      "[250 175 328 260]\n",
      "[511 113 637 256]\n",
      "[128 155 234 294]\n",
      "[484 247 521 327]\n",
      "[429 229 449 278]\n",
      "[347 272 388 309]\n",
      "[541 214 572 237]\n",
      "[424 273 471 307]\n",
      "[289 274 322 293]\n",
      "[321 272 349 289]\n",
      "[141 241 626 416]\n",
      "[178  95 198 124]\n",
      "000000009769.jpg\n"
     ]
    },
    {
     "name": "stderr",
     "output_type": "stream",
     "text": [
      "\r",
      " 98%|█████████▊| 97/99 [10:40<00:13,  6.60s/it]"
     ]
    },
    {
     "name": "stdout",
     "output_type": "stream",
     "text": [
      "[137 200 183 275]\n",
      "[103 178 467 372]\n",
      "000000009772.jpg\n"
     ]
    },
    {
     "name": "stderr",
     "output_type": "stream",
     "text": [
      "\r",
      " 99%|█████████▉| 98/99 [10:46<00:06,  6.59s/it]"
     ]
    },
    {
     "name": "stdout",
     "output_type": "stream",
     "text": [
      "[275 231 329 350]\n",
      "[131 557 416 630]\n",
      "[423  92 515 186]\n",
      "[327 379 403 399]\n",
      "[176 379 256 397]\n",
      "[  1 447  57 507]\n",
      "000000009891.jpg\n"
     ]
    },
    {
     "name": "stderr",
     "output_type": "stream",
     "text": [
      "\r",
      "100%|██████████| 99/99 [10:52<00:00,  6.59s/it]"
     ]
    },
    {
     "name": "stdout",
     "output_type": "stream",
     "text": [
      "[ 79 100 205 292]\n",
      "[196  97 349 409]\n",
      "[307 113 353 154]\n",
      "[358  88 639 308]\n",
      "[171 241 309 403]\n",
      "[425 233 494 336]\n",
      "[3.6068274776212839, 0.69193521707093342, 0.20748155538807711, 0.090879728945972821, 0.12900516366787226, 0.067589688860637542, 0.2720517441412017, 0.17176304648139007, 2.2741793074468819, 0.15165115250036387, 2.3882269596060333, 0.12586609512220845, 0.15270961837542765, 0.0, 0.0, 0.078110198003736253, 0.14146680116370655, 3.2266494380873554, 0.24430365089913209, 0.086504470783946769, 0.40137031383102439, 0.91432192478520014, 0.69953808501216219, 0.15778054173576561, 0.38930042149752075, 0.17483655166732023, 0.00011195283054073218, 6.399723787757889, 0.073335917922913482, 15.744403710257728, 0.0059433372061846457, 0.0, 0.0018754850392342847, 0.083066560569881945, 0.057360609707180106, 0.19862395253724108, 1.8751103459780638, 0.20259298410064974, 0.3079388448644555, 0.05750333709826471, 0.75040747369235972, 0.15932239037219875, 4.3306049833866975, 0.15760937902647293, 0.14179419311907784, 0.29441796680312254, 0.15699768205937595, 0.59902872084732905, 0.028505144706925122, 0.00063118729652514782, 0.12620935037634531, 0.11130960323835257, 0.080542385165946903, 0.10145099501644235, 2.2006707916864632, 0.072075522889965798, 0.22635398890885883, 0.11859181399011093, 0.021140871383352532, 0.0, 0.59440559440559437, 1.6530895373636625, 0.0, 0.19334370283009891, 0.11707568601272565, 0.40209840964869392, 0.0, 0.24044365954626321, 0.27309427748382409, 0.077414705435941894, 0.11849365593563851, 0.0291849970520205, 0.50541609334260817, 1.4317210101367888, 0.22621230928095493, 0.051416463390969835, 0.35061905058172088, 0.10915151933559546, 2.200532907254912, 0.022788353305568623, 0.17983522396078536, 0.0, 0.1417730345810802, 0.064624601350557739, 0.078881981841736545, 0.11485626402789254, 1.7619080339301216, 0.14076808396743848, 0.046673866669046826, 0.049240981364429129, 0.0, 3.1328429556311943, 1.0565604439722052, 0.4358777790216336, 0.10201602643028, 0.82099659090073229, 0.10924731176297824, 0.07360228326956432, 0.10239279232220981]\n",
      "0.692305097069\n"
     ]
    },
    {
     "name": "stderr",
     "output_type": "stream",
     "text": [
      "\n"
     ]
    }
   ],
   "source": [
    "cfg.TEST.HAS_RPN = True  # Use RPN for proposals\n",
    "\n",
    "# model path\n",
    "tfmodel = os.path.join(this_dir, \"data\", \"Faster-RCNN/vgg16_faster_rcnn_iter_1190000.ckpt\")\n",
    "\n",
    "\n",
    "if not os.path.isfile(tfmodel + '.meta'):\n",
    "    raise IOError(('{:s} not found.\\nDid you download the proper networks from '\n",
    "                   'our server and place them properly?').format(tfmodel + '.meta'))\n",
    "\n",
    "# init session\n",
    "sess = tf.Session()\n",
    "# load network\n",
    "net = vgg16()\n",
    "net.create_architecture(\"TEST\", len(CLASSES), tag='default', anchor_scales=[4, 8, 16, 32])\n",
    "saver = tf.train.Saver()\n",
    "saver.restore(sess, tfmodel)\n",
    "\n",
    "print('Loaded network {:s}'.format(tfmodel))\n",
    "\n",
    "# im_names = ['000456.jpg', '000542.jpg', '001150.jpg',\n",
    "#             '001763.jpg', '004545.jpg']\n",
    "# for im_name in im_names:\n",
    "#     print('~~~~~~~~~~~~~~~~~~~~~~~~~~~~~~~~~~~')\n",
    "#     print('Demo for data/demo/{}'.format(im_name))\n",
    "#     demo(sess, net, im_name)\n",
    "# plt.show()\n",
    "\n",
    "# Performance measurements block\n",
    "import time\n",
    "from tqdm import tqdm\n",
    "perf_image = this_dir + \"/data/images/\" + \"000542.jpg\"\n",
    "times = list()\n",
    "im = cv2.imread(perf_image)\n",
    "# for i in tqdm(range(100)):\n",
    "#     timestart = time.time()\n",
    "#     im_detect(sess, net, im)\n",
    "#     times.append(time.time() - timestart)\n",
    "# print(times)    \n",
    "# performance = np.array(times)\n",
    "# print(\"Mean:\", np.mean(performance))\n",
    "# print(\"Median:\", np.median(performance))\n",
    "# print(\"Q25:\", np.percentile(performance, 25))\n",
    "# print(\"Q75:\", np.percentile(performance, 75))\n",
    "\n",
    "sc, bx = im_detect(sess, net, im)\n",
    "print(sc.shape, bx.shape)\n",
    "exit()\n",
    "##############################################################\n",
    "\n",
    "########### Accuracy block ####################\n",
    "import json\n",
    "from tqdm import tqdm\n",
    "ann_file = this_dir + '/data/annotations/instances_val2017.json'\n",
    "test_images_path = this_dir + '/data/test_data/'\n",
    "test_image_names = sorted(os.listdir(test_images_path))\n",
    "cat_id_to_real_id = \\\n",
    "    {1: 1, 2: 2, 3: 3, 4: 4, 5: 5, 6: 6, 7: 7, 8: 8, 9: 9, 10: 10, 11: 11, 13: 12, 14: 13, 15: 14, 16: 15, 17: 16,\n",
    "     18: 17, 19: 18, 20: 19, 21: 20, 22: 21, 23: 22, 24: 23, 25: 24, 27: 25, 28: 26, 31: 27, 32: 28, 33: 29, 34: 30,\n",
    "     35: 31, 36: 32, 37: 33, 38: 34, 39: 35, 40: 36, 41: 37, 42: 38, 43: 39, 44: 40, 46: 41, 47: 42, 48: 43, 49: 44,\n",
    "     50: 45, 51: 46, 52: 47, 53: 48, 54: 49, 55: 50, 56: 51, 57: 52, 58: 53, 59: 54, 60: 55, 61: 56, 62: 57, 63: 58,\n",
    "     64: 59, 65: 60, 67: 61, 70: 62, 72: 63, 73: 64, 74: 65, 75: 66, 76: 67, 77: 68, 78: 69, 79: 70, 80: 71, 81: 72,\n",
    "     82: 73, 84: 74, 85: 75, 86: 76, 87: 77, 88: 78, 89: 79, 90: 80}\n",
    "    \n",
    "def parse_annotation(ann_file, img_dir, labels=[]):\n",
    "    all_imgs = dict()\n",
    "    seen_labels = set()\n",
    "    with open(ann_file) as f:\n",
    "        inst = json.load(f)\n",
    "    boxes = {image['id']:dict() for image in inst['images']}\n",
    "    cats = inst[\"categories\"]\n",
    "    for ann in inst['annotations']:\n",
    "        obj = {}\n",
    "        real_id = cat_id_to_real_id[ann['category_id']]\n",
    "        namename = cats[real_id-1][\"name\"]\n",
    "        seen_labels.add(namename)\n",
    "        obj = []\n",
    "        obj.append(int(round(ann['bbox'][1])))\n",
    "        obj.append(int(round(ann['bbox'][0])))\n",
    "        obj.append(int(round(ann['bbox'][1] + ann['bbox'][3])))        \n",
    "        obj.append(int(round(ann['bbox'][0] + ann['bbox'][2])))\n",
    "        if namename in boxes[ann[\"image_id\"]]:\n",
    "            boxes[ann['image_id']][namename].append(obj)\n",
    "        else:\n",
    "            boxes[ann['image_id']][namename] = [obj]\n",
    "    for image in inst['images']:\n",
    "        all_imgs[os.path.join(img_dir,image['file_name'])] =  boxes[image['id']]\n",
    "    return all_imgs, seen_labels\n",
    "\n",
    "imgs, labels = parse_annotation(ann_file, test_images_path)\n",
    "        \n",
    "def bb_intersection_over_union(boxA, boxB):\n",
    "    # determine the (x, y)-coordinates of the intersection rectangle\n",
    "    xA = max(boxA[0], boxB[0])\n",
    "    yA = max(boxA[1], boxB[1])\n",
    "    xB = min(boxA[2], boxB[2])\n",
    "    yB = min(boxA[3], boxB[3])\n",
    " \n",
    "    # compute the area of intersection rectangle\n",
    "    interArea = (xB - xA + 1) * (yB - yA + 1)\n",
    " \n",
    "    # compute the area of both the prediction and ground-truth\n",
    "    # rectangles\n",
    "    boxAArea = (boxA[2] - boxA[0] + 1) * (boxA[3] - boxA[1] + 1)\n",
    "    boxBArea = (boxB[2] - boxB[0] + 1) * (boxB[3] - boxB[1] + 1)\n",
    " \n",
    "    # compute the intersection over union by taking the intersection\n",
    "    # area and dividing it by the sum of prediction + ground-truth\n",
    "    # areas - the interesection area\n",
    "    iou = interArea / float(boxAArea + boxBArea - interArea)\n",
    "    if iou < 0:\n",
    "        return 0\n",
    "    # return the intersection over union value\n",
    "    return iou\n",
    "\n",
    "def compare_objdetect_accuracy(grrdict, predictdict):\n",
    "    accs = []\n",
    "    for key in grrdict:\n",
    "        if key not in predictdict:\n",
    "            accs += [0]* len(grrdict[key])\n",
    "        else:\n",
    "            for bbx in grrdict[key]:\n",
    "                bbxaccs = []\n",
    "                for bbox in predictdict[key]:\n",
    "                    bbxaccs.append(bb_intersection_over_union(bbx, bbox))\n",
    "                accs.append(max(bbxaccs))\n",
    "            if len(grrdict[key]) < len(predictdict[key]):\n",
    "                accs += [0]* (len(predictdict[key]) - len(grrdict[key]))\n",
    "    for key in predictdict:\n",
    "        if key not in grrdict:\n",
    "            accs += [0]*len(predictdict[key])\n",
    "    return np.mean(accs)\n",
    "\n",
    "accuracys = []\n",
    "for iname in tqdm(test_image_names):\n",
    "    finame = test_images_path + iname\n",
    "    print(iname)\n",
    "    img = cv2.imread(finame)\n",
    "    scores, boxes = im_detect(sess, net, img)\n",
    "    prdctns = dict()\n",
    "    for cls_ind, cls in enumerate(CLASSES[1:]):\n",
    "        cls_ind += 1 # because we skipped background\n",
    "        cls_boxes = boxes[:, 4*cls_ind:4*(cls_ind + 1)]\n",
    "        cls_scores = scores[:, cls_ind]\n",
    "        dets = np.hstack((cls_boxes,\n",
    "                          cls_scores[:, np.newaxis])).astype(np.float32)\n",
    "        keep = nms(dets, 0.3)\n",
    "        dets = dets[keep, :]\n",
    "        score = dets[:,-1]\n",
    "        bbox = dets[:,:4][score>0.8]\n",
    "        bbox = np.round(bbox).astype(int)\n",
    "        if len(bbox) != 0:\n",
    "            for bb in bbox:\n",
    "                print(bb)\n",
    "                if cls in prdctns:\n",
    "                    prdctns[cls].append(bb)\n",
    "                else:\n",
    "                    prdctns[cls] = [bb]\n",
    "\n",
    "    accuracys.append(compare_objdetect_accuracy(imgs[finame], prdctns))\n",
    "print(accuracys)\n",
    "print(np.mean(accuracys))\n",
    "###############################################\n",
    "\n",
    "\n",
    "\n",
    "\n",
    "sess.close()"
   ]
  },
  {
   "cell_type": "code",
   "execution_count": null,
   "metadata": {},
   "outputs": [],
   "source": [
    "path = this_dir + '/data/images/test_data'\n",
    "image_names = sorted(os.listdir(path))"
   ]
  },
  {
   "cell_type": "code",
   "execution_count": null,
   "metadata": {
    "collapsed": true
   },
   "outputs": [],
   "source": []
  }
 ],
 "metadata": {
  "kernelspec": {
   "display_name": "Python 3",
   "language": "python",
   "name": "python3"
  },
  "language_info": {
   "codemirror_mode": {
    "name": "ipython",
    "version": 3
   },
   "file_extension": ".py",
   "mimetype": "text/x-python",
   "name": "python",
   "nbconvert_exporter": "python",
   "pygments_lexer": "ipython3",
   "version": "3.6.2"
  }
 },
 "nbformat": 4,
 "nbformat_minor": 2
}
